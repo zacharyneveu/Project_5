{
 "cells": [
  {
   "cell_type": "markdown",
   "metadata": {},
   "source": [
    "# Project 5\n",
    "Graph Coloring Heuristics using local search.\n",
    "\n",
    "This notebook contains the graph coloring portion of the project, implementing simple steepest descent, as well as a genetic algorithm solution.\n",
    "\n",
    "For this project, the graph coloring was done in the [Julia](https://julialang.org/) programming language. This allows for using Jupyter notebooks for development and easy visualization of graphs. To view results, the `*.ipynb` file can be opened in Jupyter, the `*.jl` file can be run in Julia, or a PDF has been exported with all code and outputs. Output files are created as in all other projects, and additionally, plots of the best solutions are included.                 \n",
    "\n",
    "The two graph coloring algorithms implemented are steepest descent and genetic algorithms. Steepest descent produces worse solutions faster, while genetic algorithms generally produce better solutions but can take a lot of time. In general, the solutions found and runtimes for GAs could be greatly improved by tuning the hyperparameters. With four degrees of freedom (initial population, generations, selection percent and chance of mutation), a proper search for the best parameters could not be performed in the time allotted. The steepest descent algorithm is designed to simply find the local optima and stop there. If this algorithm is modified to find the best neighbor even if it is worse and go there, it will often find better solutions, but takes more time. "
   ]
  },
  {
   "cell_type": "code",
   "execution_count": 1,
   "metadata": {},
   "outputs": [],
   "source": [
    "using LightGraphs\n",
    "using MetaGraphs\n",
    "using GraphPlot\n",
    "using Glob"
   ]
  },
  {
   "cell_type": "markdown",
   "metadata": {},
   "source": [
    "## Load Graphs\n",
    "This function loads graphs from the `.input` text files as a LightGraphs object."
   ]
  },
  {
   "cell_type": "code",
   "execution_count": 4,
   "metadata": {},
   "outputs": [
    {
     "data": {
      "text/plain": [
       "loadGraph (generic function with 1 method)"
      ]
     },
     "execution_count": 4,
     "metadata": {},
     "output_type": "execute_result"
    }
   ],
   "source": [
    "function loadGraph(fn)\n",
    "    open(fn) do f\n",
    "        s = read(f, String)\n",
    "        s = split(s, '\\n')\n",
    "        nCols = parse(Int, s[1])\n",
    "        nv = parse(Int, split(s[2], ' ')[1])\n",
    "        g = SimpleGraph(nv)\n",
    "        for i=3:length(s)-1\n",
    "            start = parse(Int, split(s[i], ' ')[1])+1\n",
    "            fin =   parse(Int, split(s[i], ' ')[2])+1\n",
    "            add_edge!(g, start, fin)\n",
    "        end\n",
    "        mg = MetaGraph(g)\n",
    "        set_prop!(mg, :nColors, nCols)\n",
    "        set_prop!(mg, :name, split(fn, '/')[end])\n",
    "        return mg\n",
    "    end\n",
    "end"
   ]
  },
  {
   "cell_type": "markdown",
   "metadata": {},
   "source": [
    "## Write Solution to File\n",
    "Writes number of colors, number of conflicts, and colors of each node to a file"
   ]
  },
  {
   "cell_type": "code",
   "execution_count": 50,
   "metadata": {},
   "outputs": [
    {
     "data": {
      "text/plain": [
       "writeSolution (generic function with 1 method)"
      ]
     },
     "execution_count": 50,
     "metadata": {},
     "output_type": "execute_result"
    }
   ],
   "source": [
    "function writeSolution(g, folder)\n",
    "    n = get_prop(g, :name)\n",
    "    n = n[1:end-6]*\".output\"\n",
    "    nc = get_prop(g, :nColors)\n",
    "    open(folder*n, \"w+\") do f\n",
    "        confs = getConflicts(g)\n",
    "        write(f, \"Number of Colors: $(nc)\\n\")\n",
    "        write(f, \"Best solution: $(confs) conflicts\\n\")\n",
    "        for v in vertices(g)\n",
    "            write(f, \"Node $(v): $(get_prop(g, v, :color))\\n\")\n",
    "        end\n",
    "    end\n",
    "end"
   ]
  },
  {
   "cell_type": "markdown",
   "metadata": {},
   "source": [
    "## Write Image of Solution to File\n"
   ]
  },
  {
   "cell_type": "code",
   "execution_count": 114,
   "metadata": {},
   "outputs": [],
   "source": [
    "using Colors, Compose\n",
    "import Cairo, Fontconfig"
   ]
  },
  {
   "cell_type": "code",
   "execution_count": 111,
   "metadata": {},
   "outputs": [
    {
     "data": {
      "text/plain": [
       "writeImage (generic function with 1 method)"
      ]
     },
     "execution_count": 111,
     "metadata": {},
     "output_type": "execute_result"
    }
   ],
   "source": [
    "function writeImage(g, folder)\n",
    "    n = get_prop(g, :name)\n",
    "    n = n[1:end-6]*\".png\"\n",
    "    nc = get_prop(g, :nColors)\n",
    "    c1 = colorant\"steelblue1\"\n",
    "    c2 = colorant\"crimson\"\n",
    "    fillc = range(c1, stop=c2, length=nc)\n",
    "    elabs = [get_prop(g, e.src, :color) == get_prop(g, e.dst, :color) ? \"x\" : \"\" for e in edges(g)]\n",
    "    cs = [get_prop(g, v, :color) for v in vertices(g)]\n",
    "    c = [fillc[i+1] for i in cs]\n",
    "    draw(PNG(folder*n, 16cm, 16cm), gplot(g, nodefillc=c, nodelabel=1:nv(g), edgelabel=elabs))\n",
    "end"
   ]
  },
  {
   "cell_type": "markdown",
   "metadata": {},
   "source": [
    "## Plotting Utility\n",
    "Allows for plotting graphs with `x` over edges with conflict and color numbers on each node"
   ]
  },
  {
   "cell_type": "code",
   "execution_count": 137,
   "metadata": {},
   "outputs": [
    {
     "data": {
      "text/plain": [
       "plotColors (generic function with 1 method)"
      ]
     },
     "execution_count": 137,
     "metadata": {},
     "output_type": "execute_result"
    }
   ],
   "source": [
    "function plotColors(g)\n",
    "    n = get_prop(g, :name)\n",
    "    n = n[1:end-6]*\".png\"\n",
    "    nc = get_prop(g, :nColors)\n",
    "    c1 = colorant\"steelblue1\"\n",
    "    c2 = colorant\"crimson\"\n",
    "    fillc = range(c1, stop=c2, length=nc)\n",
    "    elabs = [get_prop(g, e.src, :color) == get_prop(g, e.dst, :color) ? \"x\" : \"\" for e in edges(g)]\n",
    "    cs = [get_prop(g, v, :color) for v in vertices(g)]\n",
    "    c = [fillc[i+1] for i in cs]\n",
    "    gplot(g, nodefillc=c, nodelabel=1:nv(g), edgelabel=elabs)\n",
    "end"
   ]
  },
  {
   "cell_type": "code",
   "execution_count": 131,
   "metadata": {},
   "outputs": [],
   "source": [
    "eg = loadGraph(\"instances/color12-4.input\")\n",
    "init!(eg)"
   ]
  },
  {
   "cell_type": "code",
   "execution_count": 138,
   "metadata": {},
   "outputs": [
    {
     "data": {
      "image/png": "[encoded data removed]",
      "text/plain": [
       "Context(Measures.BoundingBox{Tuple{Measures.Length{:w,Float64},Measures.Length{:h,Float64}},Tuple{Measures.Length{:w,Float64},Measures.Length{:h,Float64}}}((0.0w, 0.0h), (1.0w, 1.0h)), UnitBox{Float64,Float64,Float64,Float64}(-1.2, -1.2, 2.4, 2.4, 0.0mm, 0.0mm, 0.0mm, 0.0mm), nothing, nothing, nothing, List([Context(Measures.BoundingBox{Tuple{Measures.Length{:w,Float64},Measures.Length{:h,Float64}},Tuple{Measures.Length{:w,Float64},Measures.Length{:h,Float64}}}((0.0w, 0.0h), (1.0w, 1.0h)), nothing, nothing, nothing, nothing, List([]), List([Compose.Form{Compose.LinePrimitive}(Compose.LinePrimitive[LinePrimitive{Tuple{Measure,Measure}}(Tuple{Measure,Measure}[(-0.935653cx, 0.408794cy), (-0.319638cx, 0.0959711cy)]), LinePrimitive{Tuple{Measure,Measure}}(Tuple{Measure,Measure}[(-0.183828cx, 0.0733644cy), (0.509704cx, 0.171091cy)]), LinePrimitive{Tuple{Measure,Measure}}(Tuple{Measure,Measure}[(-0.197466cx, 0.106477cy), (0.213187cx, 0.413147cy)]), LinePrimitive{Tuple{Measure,Measure}}(Tuple{Measure,Measure}[(-0.232508cx, -0.00518393cy), (0.0756807cx, -0.931522cy)]), LinePrimitive{Tuple{Measure,Measure}}(Tuple{Measure,Measure}[(-0.248957cx, -0.00859588cy), (-0.197481cx, -0.592914cy)]), LinePrimitive{Tuple{Measure,Measure}}(Tuple{Measure,Measure}[(0.592285cx, 0.109854cy), (0.73094cx, -0.779394cy)]), LinePrimitive{Tuple{Measure,Measure}}(Tuple{Measure,Measure}[(0.57772cx, 0.253247cy), (0.545464cx, 0.927914cy)]), LinePrimitive{Tuple{Measure,Measure}}(Tuple{Measure,Measure}[(0.61862cx, 0.119472cy), (0.962546cx, -0.447006cy)]), LinePrimitive{Tuple{Measure,Measure}}(Tuple{Measure,Measure}[(0.673075cx, -0.829498cy), (0.488876cx, -0.77288cy)]), LinePrimitive{Tuple{Measure,Measure}}(Tuple{Measure,Measure}[(0.671757cx, -0.86701cy), (0.168765cx, -0.983692cy)])  …  LinePrimitive{Tuple{Measure,Measure}}(Tuple{Measure,Measure}[(0.279839cx, 0.384703cy), (0.411064cx, -0.68005cy)]), LinePrimitive{Tuple{Measure,Measure}}(Tuple{Measure,Measure}[(0.303208cx, 0.520919cy), (0.509821cx, 0.935411cy)]), LinePrimitive{Tuple{Measure,Measure}}(Tuple{Measure,Measure}[(0.336689cx, 0.426417cy), (0.864664cx, 0.185951cy)]), LinePrimitive{Tuple{Measure,Measure}}(Tuple{Measure,Measure}[(0.486457cx, -0.723795cy), (0.933434cx, -0.536577cy)]), LinePrimitive{Tuple{Measure,Measure}}(Tuple{Measure,Measure}[(0.348442cx, -0.741518cy), (-0.119698cx, -0.674963cy)]), LinePrimitive{Tuple{Measure,Measure}}(Tuple{Measure,Measure}[(0.535222cx, 0.928152cy), (0.436068cx, -0.120303cy)]), LinePrimitive{Tuple{Measure,Measure}}(Tuple{Measure,Measure}[(0.125812cx, -0.933214cy), (0.401924cx, -0.258937cy)]), LinePrimitive{Tuple{Measure,Measure}}(Tuple{Measure,Measure}[(0.936888cx, -0.473692cy), (0.492384cx, -0.227155cy)]), LinePrimitive{Tuple{Measure,Measure}}(Tuple{Measure,Measure}[(-0.133741cx, -0.62107cy), (0.371865cx, -0.235885cy)]), LinePrimitive{Tuple{Measure,Measure}}(Tuple{Measure,Measure}[(0.871077cx, 0.114855cy), (0.488538cx, -0.150968cy)])], Symbol(\"\"))]), List([Compose.Property{Compose.LineWidthPrimitive}(Compose.LineWidthPrimitive[LineWidthPrimitive(0.866025mm)]), Compose.Property{Compose.FillPrimitive}(Compose.FillPrimitive[FillPrimitive(RGBA{Float64}(0.0,0.0,0.0,0.0))]), Compose.Property{Compose.StrokePrimitive}(Compose.StrokePrimitive[StrokePrimitive(RGBA{Float64}(0.827451,0.827451,0.827451,1.0))])]), 0, false, false, false, false, nothing, nothing, 0.0, Symbol(\"\")), Context(Measures.BoundingBox{Tuple{Measures.Length{:w,Float64},Measures.Length{:h,Float64}},Tuple{Measures.Length{:w,Float64},Measures.Length{:h,Float64}}}((0.0w, 0.0h), (1.0w, 1.0h)), nothing, nothing, nothing, nothing, List([]), List([]), List([Compose.Property{Compose.LineWidthPrimitive}(Compose.LineWidthPrimitive[LineWidthPrimitive(0.866025mm)]), Compose.Property{Compose.StrokePrimitive}(Compose.StrokePrimitive[StrokePrimitive(RGBA{Float64}(0.827451,0.827451,0.827451,1.0))])]), 0, false, false, false, false, nothing, nothing, 0.0, Symbol(\"\")), Context(Measures.BoundingBox{Tuple{Measures.Length{:w,Float64},Measures.Length{:h,Float64}},Tuple{Measures.Length{:w,Float64},Measures.Length{:h,Float64}}}((0.0w, 0.0h), (1.0w, 1.0h)), nothing, nothing, nothing, nothing, List([]), List([Compose.Form{Compose.TextPrimitive{Tuple{Measures.Length{:cx,Float64},Measures.Length{:cy,Float64}},Rotation{Tuple{Measures.Length{:w,Float64},Measures.Length{:h,Float64}}},Tuple{Measures.Length{:mm,Float64},Measures.Length{:mm,Float64}}}}(Compose.TextPrimitive{Tuple{Measures.Length{:cx,Float64},Measures.Length{:cy,Float64}},Rotation{Tuple{Measures.Length{:w,Float64},Measures.Length{:h,Float64}}},Tuple{Measures.Length{:mm,Float64},Measures.Length{:mm,Float64}}}[TextPrimitive{Tuple{Length{:cx,Float64},Length{:cy,Float64}},Rotation{Tuple{Length{:w,Float64},Length{:h,Float64}}},Tuple{Length{:mm,Float64},Length{:mm,Float64}}}((-0.627645cx, 0.252383cy), \"x\", HCenter(), VCenter(), Rotation{Tuple{Length{:w,Float64},Length{:h,Float64}}}(0.0, (0.5w, 0.5h)), (0.0mm, 0.0mm)), TextPrimitive{Tuple{Length{:cx,Float64},Length{:cy,Float64}},Rotation{Tuple{Length{:w,Float64},Length{:h,Float64}}},Tuple{Length{:mm,Float64},Length{:mm,Float64}}}((0.162938cx, 0.122228cy), \"\", HCenter(), VCenter(), Rotation{Tuple{Length{:w,Float64},Length{:h,Float64}}}(0.0, (0.5w, 0.5h)), (0.0mm, 0.0mm)), TextPrimitive{Tuple{Length{:cx,Float64},Length{:cy,Float64}},Rotation{Tuple{Length{:w,Float64},Length{:h,Float64}}},Tuple{Length{:mm,Float64},Length{:mm,Float64}}}((0.00786048cx, 0.259812cy), \"\", HCenter(), VCenter(), Rotation{Tuple{Length{:w,Float64},Length{:h,Float64}}}(0.0, (0.5w, 0.5h)), (0.0mm, 0.0mm)), TextPrimitive{Tuple{Length{:cx,Float64},Length{:cy,Float64}},Rotation{Tuple{Length{:w,Float64},Length{:h,Float64}}},Tuple{Length{:mm,Float64},Length{:mm,Float64}}}((-0.0784137cx, -0.468353cy), \"\", HCenter(), VCenter(), Rotation{Tuple{Length{:w,Float64},Length{:h,Float64}}}(0.0, (0.5w, 0.5h)), (0.0mm, 0.0mm)), TextPrimitive{Tuple{Length{:cx,Float64},Length{:cy,Float64}},Rotation{Tuple{Length{:w,Float64},Length{:h,Float64}}},Tuple{Length{:mm,Float64},Length{:mm,Float64}}}((-0.223219cx, -0.300755cy), \"x\", HCenter(), VCenter(), Rotation{Tuple{Length{:w,Float64},Length{:h,Float64}}}(0.0, (0.5w, 0.5h)), (0.0mm, 0.0mm)), TextPrimitive{Tuple{Length{:cx,Float64},Length{:cy,Float64}},Rotation{Tuple{Length{:w,Float64},Length{:h,Float64}}},Tuple{Length{:mm,Float64},Length{:mm,Float64}}}((0.661613cx, -0.33477cy), \"\", HCenter(), VCenter(), Rotation{Tuple{Length{:w,Float64},Length{:h,Float64}}}(0.0, (0.5w, 0.5h)), (0.0mm, 0.0mm)), TextPrimitive{Tuple{Length{:cx,Float64},Length{:cy,Float64}},Rotation{Tuple{Length{:w,Float64},Length{:h,Float64}}},Tuple{Length{:mm,Float64},Length{:mm,Float64}}}((0.561592cx, 0.59058cy), \"x\", HCenter(), VCenter(), Rotation{Tuple{Length{:w,Float64},Length{:h,Float64}}}(0.0, (0.5w, 0.5h)), (0.0mm, 0.0mm)), TextPrimitive{Tuple{Length{:cx,Float64},Length{:cy,Float64}},Rotation{Tuple{Length{:w,Float64},Length{:h,Float64}}},Tuple{Length{:mm,Float64},Length{:mm,Float64}}}((0.790583cx, -0.163767cy), \"\", HCenter(), VCenter(), Rotation{Tuple{Length{:w,Float64},Length{:h,Float64}}}(0.0, (0.5w, 0.5h)), (0.0mm, 0.0mm)), TextPrimitive{Tuple{Length{:cx,Float64},Length{:cy,Float64}},Rotation{Tuple{Length{:w,Float64},Length{:h,Float64}}},Tuple{Length{:mm,Float64},Length{:mm,Float64}}}((0.580975cx, -0.801189cy), \"\", HCenter(), VCenter(), Rotation{Tuple{Length{:w,Float64},Length{:h,Float64}}}(0.0, (0.5w, 0.5h)), (0.0mm, 0.0mm)), TextPrimitive{Tuple{Length{:cx,Float64},Length{:cy,Float64}},Rotation{Tuple{Length{:w,Float64},Length{:h,Float64}}},Tuple{Length{:mm,Float64},Length{:mm,Float64}}}((0.420261cx, -0.925351cy), \"\", HCenter(), VCenter(), Rotation{Tuple{Length{:w,Float64},Length{:h,Float64}}}(0.0, (0.5w, 0.5h)), (0.0mm, 0.0mm))  …  TextPrimitive{Tuple{Length{:cx,Float64},Length{:cy,Float64}},Rotation{Tuple{Length{:w,Float64},Length{:h,Float64}}},Tuple{Length{:mm,Float64},Length{:mm,Float64}}}((0.345452cx, -0.147673cy), \"x\", HCenter(), VCenter(), Rotation{Tuple{Length{:w,Float64},Length{:h,Float64}}}(0.0, (0.5w, 0.5h)), (0.0mm, 0.0mm)), TextPrimitive{Tuple{Length{:cx,Float64},Length{:cy,Float64}},Rotation{Tuple{Length{:w,Float64},Length{:h,Float64}}},Tuple{Length{:mm,Float64},Length{:mm,Float64}}}((0.406514cx, 0.728165cy), \"\", HCenter(), VCenter(), Rotation{Tuple{Length{:w,Float64},Length{:h,Float64}}}(0.0, (0.5w, 0.5h)), (0.0mm, 0.0mm)), TextPrimitive{Tuple{Length{:cx,Float64},Length{:cy,Float64}},Rotation{Tuple{Length{:w,Float64},Length{:h,Float64}}},Tuple{Length{:mm,Float64},Length{:mm,Float64}}}((0.600677cx, 0.306184cy), \"x\", HCenter(), VCenter(), Rotation{Tuple{Length{:w,Float64},Length{:h,Float64}}}(0.0, (0.5w, 0.5h)), (0.0mm, 0.0mm)), TextPrimitive{Tuple{Length{:cx,Float64},Length{:cy,Float64}},Rotation{Tuple{Length{:w,Float64},Length{:h,Float64}}},Tuple{Length{:mm,Float64},Length{:mm,Float64}}}((0.709946cx, -0.630186cy), \"x\", HCenter(), VCenter(), Rotation{Tuple{Length{:w,Float64},Length{:h,Float64}}}(0.0, (0.5w, 0.5h)), (0.0mm, 0.0mm)), TextPrimitive{Tuple{Length{:cx,Float64},Length{:cy,Float64}},Rotation{Tuple{Length{:w,Float64},Length{:h,Float64}}},Tuple{Length{:mm,Float64},Length{:mm,Float64}}}((0.114372cx, -0.70824cy), \"\", HCenter(), VCenter(), Rotation{Tuple{Length{:w,Float64},Length{:h,Float64}}}(0.0, (0.5w, 0.5h)), (0.0mm, 0.0mm)), TextPrimitive{Tuple{Length{:cx,Float64},Length{:cy,Float64}},Rotation{Tuple{Length{:w,Float64},Length{:h,Float64}}},Tuple{Length{:mm,Float64},Length{:mm,Float64}}}((0.485645cx, 0.403925cy), \"x\", HCenter(), VCenter(), Rotation{Tuple{Length{:w,Float64},Length{:h,Float64}}}(0.0, (0.5w, 0.5h)), (0.0mm, 0.0mm)), TextPrimitive{Tuple{Length{:cx,Float64},Length{:cy,Float64}},Rotation{Tuple{Length{:w,Float64},Length{:h,Float64}}},Tuple{Length{:mm,Float64},Length{:mm,Float64}}}((0.263868cx, -0.596075cy), \"\", HCenter(), VCenter(), Rotation{Tuple{Length{:w,Float64},Length{:h,Float64}}}(0.0, (0.5w, 0.5h)), (0.0mm, 0.0mm)), TextPrimitive{Tuple{Length{:cx,Float64},Length{:cy,Float64}},Rotation{Tuple{Length{:w,Float64},Length{:h,Float64}}},Tuple{Length{:mm,Float64},Length{:mm,Float64}}}((0.714636cx, -0.350423cy), \"\", HCenter(), VCenter(), Rotation{Tuple{Length{:w,Float64},Length{:h,Float64}}}(0.0, (0.5w, 0.5h)), (0.0mm, 0.0mm)), TextPrimitive{Tuple{Length{:cx,Float64},Length{:cy,Float64}},Rotation{Tuple{Length{:w,Float64},Length{:h,Float64}}},Tuple{Length{:mm,Float64},Length{:mm,Float64}}}((0.119062cx, -0.428478cy), \"\", HCenter(), VCenter(), Rotation{Tuple{Length{:w,Float64},Length{:h,Float64}}}(0.0, (0.5w, 0.5h)), (0.0mm, 0.0mm)), TextPrimitive{Tuple{Length{:cx,Float64},Length{:cy,Float64}},Rotation{Tuple{Length{:w,Float64},Length{:h,Float64}}},Tuple{Length{:mm,Float64},Length{:mm,Float64}}}((0.679807cx, -0.0180563cy), \"\", HCenter(), VCenter(), Rotation{Tuple{Length{:w,Float64},Length{:h,Float64}}}(0.0, (0.5w, 0.5h)), (0.0mm, 0.0mm))], Symbol(\"\"))]), List([Compose.Property{Compose.FontSizePrimitive}(Compose.FontSizePrimitive[FontSizePrimitive(4.0mm)]), Compose.Property{Compose.StrokePrimitive}(Compose.StrokePrimitive[StrokePrimitive(RGBA{Float64}(0.0,0.0,0.0,0.0))]), Compose.Property{Compose.FillPrimitive}(Compose.FillPrimitive[FillPrimitive(RGBA{Float64}(0.0,0.0,0.0,1.0))])]), 0, false, false, false, false, nothing, nothing, 0.0, Symbol(\"\")), Context(Measures.BoundingBox{Tuple{Measures.Length{:w,Float64},Measures.Length{:h,Float64}},Tuple{Measures.Length{:w,Float64},Measures.Length{:h,Float64}}}((0.0w, 0.0h), (1.0w, 1.0h)), nothing, nothing, nothing, nothing, List([]), List([Compose.Form{Compose.CirclePrimitive{Tuple{Measure,Measure},Measure}}(Compose.CirclePrimitive{Tuple{Measure,Measure},Measure}[CirclePrimitive{Tuple{Measure,Measure},Measure}((-1.0cx, 0.441471cy), 0.0288675w), CirclePrimitive{Tuple{Measure,Measure},Measure}((-0.255291cx, 0.0632945cy), 0.0288675w), CirclePrimitive{Tuple{Measure,Measure},Measure}((0.581167cx, 0.181161cy), 0.0288675w), CirclePrimitive{Tuple{Measure,Measure},Measure}((0.742059cx, -0.850701cy), 0.0288675w), CirclePrimitive{Tuple{Measure,Measure},Measure}((0.271012cx, 0.45633cy), 0.0288675w), CirclePrimitive{Tuple{Measure,Measure},Measure}((0.419892cx, -0.751676cy), 0.0288675w), CirclePrimitive{Tuple{Measure,Measure},Measure}((0.542017cx, 1.0cy), 0.0288675w), CirclePrimitive{Tuple{Measure,Measure},Measure}((0.0984632cx, -1.0cy), 0.0288675w), CirclePrimitive{Tuple{Measure,Measure},Measure}((1.0cx, -0.508695cy), 0.0288675w), CirclePrimitive{Tuple{Measure,Measure},Measure}((-0.191148cx, -0.664804cy), 0.0288675w), CirclePrimitive{Tuple{Measure,Measure},Measure}((0.930342cx, 0.156038cy), 0.0288675w), CirclePrimitive{Tuple{Measure,Measure},Measure}((0.429273cx, -0.192151cy), 0.0288675w)], Symbol(\"\"))]), List([Compose.Property{Compose.LineWidthPrimitive}(Compose.LineWidthPrimitive[LineWidthPrimitive(0.0mm)]), Compose.Property{Compose.StrokePrimitive}(Compose.StrokePrimitive[StrokePrimitive(RGBA{Float64}(0.0,0.0,0.0,0.0))]), Compose.Property{Compose.FillPrimitive}(Compose.FillPrimitive[FillPrimitive(RGBA{Float64}(0.388235,0.721569,1.0,1.0)), FillPrimitive(RGBA{Float64}(0.388235,0.721569,1.0,1.0)), FillPrimitive(RGBA{Float64}(0.545098,0.509804,0.745098,1.0)), FillPrimitive(RGBA{Float64}(0.862745,0.0784314,0.235294,1.0)), FillPrimitive(RGBA{Float64}(0.705882,0.290196,0.490196,1.0)), FillPrimitive(RGBA{Float64}(0.705882,0.290196,0.490196,1.0)), FillPrimitive(RGBA{Float64}(0.545098,0.509804,0.745098,1.0)), FillPrimitive(RGBA{Float64}(0.705882,0.290196,0.490196,1.0)), FillPrimitive(RGBA{Float64}(0.705882,0.290196,0.490196,1.0)), FillPrimitive(RGBA{Float64}(0.388235,0.721569,1.0,1.0)), FillPrimitive(RGBA{Float64}(0.705882,0.290196,0.490196,1.0)), FillPrimitive(RGBA{Float64}(0.545098,0.509804,0.745098,1.0))])]), 0, false, false, false, false, nothing, nothing, 0.0, Symbol(\"\")), Context(Measures.BoundingBox{Tuple{Measures.Length{:w,Float64},Measures.Length{:h,Float64}},Tuple{Measures.Length{:w,Float64},Measures.Length{:h,Float64}}}((0.0w, 0.0h), (1.0w, 1.0h)), nothing, nothing, nothing, nothing, List([]), List([Compose.Form{Compose.TextPrimitive{Tuple{Measures.Length{:cx,Float64},Measures.Length{:cy,Float64}},Rotation{Tuple{Measures.Length{:w,Float64},Measures.Length{:h,Float64}}},Tuple{Measures.Length{:mm,Float64},Measures.Length{:mm,Float64}}}}(Compose.TextPrimitive{Tuple{Measures.Length{:cx,Float64},Measures.Length{:cy,Float64}},Rotation{Tuple{Measures.Length{:w,Float64},Measures.Length{:h,Float64}}},Tuple{Measures.Length{:mm,Float64},Measures.Length{:mm,Float64}}}[TextPrimitive{Tuple{Length{:cx,Float64},Length{:cy,Float64}},Rotation{Tuple{Length{:w,Float64},Length{:h,Float64}}},Tuple{Length{:mm,Float64},Length{:mm,Float64}}}((-1.0cx, 0.441471cy), \"1\", HCenter(), VCenter(), Rotation{Tuple{Length{:w,Float64},Length{:h,Float64}}}(0.0, (0.5w, 0.5h)), (0.0mm, 0.0mm)), TextPrimitive{Tuple{Length{:cx,Float64},Length{:cy,Float64}},Rotation{Tuple{Length{:w,Float64},Length{:h,Float64}}},Tuple{Length{:mm,Float64},Length{:mm,Float64}}}((-0.255291cx, 0.0632945cy), \"2\", HCenter(), VCenter(), Rotation{Tuple{Length{:w,Float64},Length{:h,Float64}}}(0.0, (0.5w, 0.5h)), (0.0mm, 0.0mm)), TextPrimitive{Tuple{Length{:cx,Float64},Length{:cy,Float64}},Rotation{Tuple{Length{:w,Float64},Length{:h,Float64}}},Tuple{Length{:mm,Float64},Length{:mm,Float64}}}((0.581167cx, 0.181161cy), \"3\", HCenter(), VCenter(), Rotation{Tuple{Length{:w,Float64},Length{:h,Float64}}}(0.0, (0.5w, 0.5h)), (0.0mm, 0.0mm)), TextPrimitive{Tuple{Length{:cx,Float64},Length{:cy,Float64}},Rotation{Tuple{Length{:w,Float64},Length{:h,Float64}}},Tuple{Length{:mm,Float64},Length{:mm,Float64}}}((0.742059cx, -0.850701cy), \"4\", HCenter(), VCenter(), Rotation{Tuple{Length{:w,Float64},Length{:h,Float64}}}(0.0, (0.5w, 0.5h)), (0.0mm, 0.0mm)), TextPrimitive{Tuple{Length{:cx,Float64},Length{:cy,Float64}},Rotation{Tuple{Length{:w,Float64},Length{:h,Float64}}},Tuple{Length{:mm,Float64},Length{:mm,Float64}}}((0.271012cx, 0.45633cy), \"5\", HCenter(), VCenter(), Rotation{Tuple{Length{:w,Float64},Length{:h,Float64}}}(0.0, (0.5w, 0.5h)), (0.0mm, 0.0mm)), TextPrimitive{Tuple{Length{:cx,Float64},Length{:cy,Float64}},Rotation{Tuple{Length{:w,Float64},Length{:h,Float64}}},Tuple{Length{:mm,Float64},Length{:mm,Float64}}}((0.419892cx, -0.751676cy), \"6\", HCenter(), VCenter(), Rotation{Tuple{Length{:w,Float64},Length{:h,Float64}}}(0.0, (0.5w, 0.5h)), (0.0mm, 0.0mm)), TextPrimitive{Tuple{Length{:cx,Float64},Length{:cy,Float64}},Rotation{Tuple{Length{:w,Float64},Length{:h,Float64}}},Tuple{Length{:mm,Float64},Length{:mm,Float64}}}((0.542017cx, 1.0cy), \"7\", HCenter(), VCenter(), Rotation{Tuple{Length{:w,Float64},Length{:h,Float64}}}(0.0, (0.5w, 0.5h)), (0.0mm, 0.0mm)), TextPrimitive{Tuple{Length{:cx,Float64},Length{:cy,Float64}},Rotation{Tuple{Length{:w,Float64},Length{:h,Float64}}},Tuple{Length{:mm,Float64},Length{:mm,Float64}}}((0.0984632cx, -1.0cy), \"8\", HCenter(), VCenter(), Rotation{Tuple{Length{:w,Float64},Length{:h,Float64}}}(0.0, (0.5w, 0.5h)), (0.0mm, 0.0mm)), TextPrimitive{Tuple{Length{:cx,Float64},Length{:cy,Float64}},Rotation{Tuple{Length{:w,Float64},Length{:h,Float64}}},Tuple{Length{:mm,Float64},Length{:mm,Float64}}}((1.0cx, -0.508695cy), \"9\", HCenter(), VCenter(), Rotation{Tuple{Length{:w,Float64},Length{:h,Float64}}}(0.0, (0.5w, 0.5h)), (0.0mm, 0.0mm)), TextPrimitive{Tuple{Length{:cx,Float64},Length{:cy,Float64}},Rotation{Tuple{Length{:w,Float64},Length{:h,Float64}}},Tuple{Length{:mm,Float64},Length{:mm,Float64}}}((-0.191148cx, -0.664804cy), \"10\", HCenter(), VCenter(), Rotation{Tuple{Length{:w,Float64},Length{:h,Float64}}}(0.0, (0.5w, 0.5h)), (0.0mm, 0.0mm)), TextPrimitive{Tuple{Length{:cx,Float64},Length{:cy,Float64}},Rotation{Tuple{Length{:w,Float64},Length{:h,Float64}}},Tuple{Length{:mm,Float64},Length{:mm,Float64}}}((0.930342cx, 0.156038cy), \"11\", HCenter(), VCenter(), Rotation{Tuple{Length{:w,Float64},Length{:h,Float64}}}(0.0, (0.5w, 0.5h)), (0.0mm, 0.0mm)), TextPrimitive{Tuple{Length{:cx,Float64},Length{:cy,Float64}},Rotation{Tuple{Length{:w,Float64},Length{:h,Float64}}},Tuple{Length{:mm,Float64},Length{:mm,Float64}}}((0.429273cx, -0.192151cy), \"12\", HCenter(), VCenter(), Rotation{Tuple{Length{:w,Float64},Length{:h,Float64}}}(0.0, (0.5w, 0.5h)), (0.0mm, 0.0mm))], Symbol(\"\"))]), List([Compose.Property{Compose.FontSizePrimitive}(Compose.FontSizePrimitive[FontSizePrimitive(4.0mm)]), Compose.Property{Compose.StrokePrimitive}(Compose.StrokePrimitive[StrokePrimitive(RGBA{Float64}(0.0,0.0,0.0,0.0))]), Compose.Property{Compose.FillPrimitive}(Compose.FillPrimitive[FillPrimitive(RGBA{Float64}(0.0,0.0,0.0,1.0))])]), 0, false, false, false, false, nothing, nothing, 0.0, Symbol(\"\"))]), List([]), List([]), 0, false, false, false, false, nothing, nothing, 0.0, Symbol(\"\"))"
      ]
     },
     "execution_count": 138,
     "metadata": {},
     "output_type": "execute_result"
    }
   ],
   "source": [
    "plotColors(eg)"
   ]
  },
  {
   "cell_type": "markdown",
   "metadata": {},
   "source": [
    "## Initialization\n",
    "Randomly initialize colors of graph (in place version has `!`)"
   ]
  },
  {
   "cell_type": "code",
   "execution_count": 35,
   "metadata": {},
   "outputs": [
    {
     "data": {
      "text/plain": [
       "init! (generic function with 1 method)"
      ]
     },
     "execution_count": 35,
     "metadata": {},
     "output_type": "execute_result"
    }
   ],
   "source": [
    "function init!(g)\n",
    "    for v in vertices(g)\n",
    "        nc = get_prop(g, :nColors)\n",
    "        color = rand(0:nc-1)\n",
    "        set_prop!(g, v, :color, color)\n",
    "    end\n",
    "end"
   ]
  },
  {
   "cell_type": "code",
   "execution_count": 7,
   "metadata": {},
   "outputs": [
    {
     "data": {
      "text/plain": [
       "init (generic function with 1 method)"
      ]
     },
     "execution_count": 7,
     "metadata": {},
     "output_type": "execute_result"
    }
   ],
   "source": [
    "function init(g)\n",
    "    cg = copy(g)\n",
    "    init!(cg)\n",
    "    return cg\n",
    "end"
   ]
  },
  {
   "cell_type": "markdown",
   "metadata": {},
   "source": [
    "## Counting Conflicts\n",
    "This function allows for easy counting of conflicts in a graph instance"
   ]
  },
  {
   "cell_type": "code",
   "execution_count": 9,
   "metadata": {},
   "outputs": [
    {
     "data": {
      "text/plain": [
       "getConflicts (generic function with 1 method)"
      ]
     },
     "execution_count": 9,
     "metadata": {},
     "output_type": "execute_result"
    }
   ],
   "source": [
    "function getConflicts(g)\n",
    "    return sum([get_prop(g, e.src, :color) == get_prop(g, e.dst, :color) for e in edges(g)])\n",
    "end"
   ]
  },
  {
   "cell_type": "markdown",
   "metadata": {},
   "source": [
    "## Neighborhood\n",
    "To keep a small neighborhood, neighborhood for graph coloring is all graphs that could be created by augmenting the color of one node. This leaves $n$ possible neighbors"
   ]
  },
  {
   "cell_type": "code",
   "execution_count": 41,
   "metadata": {},
   "outputs": [
    {
     "data": {
      "text/plain": [
       "getBestNeighbor (generic function with 1 method)"
      ]
     },
     "execution_count": 41,
     "metadata": {},
     "output_type": "execute_result"
    }
   ],
   "source": [
    "function getBestNeighbor(g)\n",
    "    best = g\n",
    "    for v in vertices(g)\n",
    "        new = copy(g)\n",
    "        newc = (get_prop(new, v, :color) + 1) % get_prop(g, :nColors)\n",
    "        set_prop!(new, v, :color, newc)\n",
    "        if getConflicts(new) <= getConflicts(best)\n",
    "            best = new\n",
    "        end\n",
    "    end\n",
    "    if best == g\n",
    "        return false\n",
    "    else\n",
    "        return best\n",
    "    end\n",
    "end\n",
    "        "
   ]
  },
  {
   "cell_type": "markdown",
   "metadata": {},
   "source": [
    "## Descent Strategy\n",
    "Simply get the best neighbor every iteration (false returned if no better neighbors)"
   ]
  },
  {
   "cell_type": "code",
   "execution_count": 53,
   "metadata": {},
   "outputs": [
    {
     "data": {
      "text/plain": [
       "steepestDescent (generic function with 2 methods)"
      ]
     },
     "execution_count": 53,
     "metadata": {},
     "output_type": "execute_result"
    }
   ],
   "source": [
    "function steepestDescent(g)\n",
    "    cg = copy(g)\n",
    "    while true\n",
    "        new = getBestNeighbor(cg)\n",
    "        if new != false\n",
    "            cg = new\n",
    "        else\n",
    "            return cg\n",
    "        end\n",
    "    end\n",
    "end"
   ]
  },
  {
   "cell_type": "markdown",
   "metadata": {},
   "source": [
    "## Run on All Input Files"
   ]
  },
  {
   "cell_type": "code",
   "execution_count": 36,
   "metadata": {},
   "outputs": [],
   "source": [
    "using Glob"
   ]
  },
  {
   "cell_type": "code",
   "execution_count": 38,
   "metadata": {},
   "outputs": [
    {
     "data": {
      "text/plain": [
       "11-element Array{String,1}:\n",
       " \"instances/color12-3.input\" \n",
       " \"instances/color12-4.input\" \n",
       " \"instances/color24-4.input\" \n",
       " \"instances/color24-5.input\" \n",
       " \"instances/color48-5.input\" \n",
       " \"instances/color48-6.input\" \n",
       " \"instances/color96-6.input\" \n",
       " \"instances/color96-7.input\" \n",
       " \"instances/color192-6.input\"\n",
       " \"instances/color192-7.input\"\n",
       " \"instances/color192-8.input\""
      ]
     },
     "execution_count": 38,
     "metadata": {},
     "output_type": "execute_result"
    }
   ],
   "source": [
    "fs = glob(\"color*.input\", \"instances\")\n",
    "getNum(str) = parse(Int, str[16:end-8])\n",
    "sort!(fs, lt=(a,b)->getNum(a) < getNum(b))"
   ]
  },
  {
   "cell_type": "code",
   "execution_count": 116,
   "metadata": {},
   "outputs": [
    {
     "name": "stdout",
     "output_type": "stream",
     "text": [
      "Instance color12-3.input: 8 conflicts\n",
      "Instance color12-4.input: 5 conflicts\n",
      "Instance color24-4.input: 22 conflicts\n",
      "Instance color24-5.input: 13 conflicts\n",
      "Instance color48-5.input: 52 conflicts\n",
      "Instance color48-6.input: 34 conflicts\n",
      "Instance color96-6.input: 130 conflicts\n",
      "Instance color96-7.input: 135 conflicts\n",
      "Instance color192-6.input: 382 conflicts\n",
      "Instance color192-7.input: 348 conflicts\n",
      "Instance color192-8.input: 285 conflicts\n"
     ]
    }
   ],
   "source": [
    "for f in fs\n",
    "    fn = split(f, '/')[end]\n",
    "    g = loadGraph(f)\n",
    "    init!(g)\n",
    "    g = steepestDescent(g)\n",
    "    confs = getConflicts(g)\n",
    "    writeSolution(g, \"sdoutputs/\")\n",
    "    writeImage(g, \"sdoutputs/imgs/\")\n",
    "    println(\"Instance $fn: $(confs) conflicts\")\n",
    "end "
   ]
  },
  {
   "cell_type": "markdown",
   "metadata": {},
   "source": [
    "# Genetic Algorithm"
   ]
  },
  {
   "cell_type": "markdown",
   "metadata": {},
   "source": [
    "## Initialize Population"
   ]
  },
  {
   "cell_type": "code",
   "execution_count": 55,
   "metadata": {},
   "outputs": [
    {
     "data": {
      "text/plain": [
       "initPop (generic function with 1 method)"
      ]
     },
     "execution_count": 55,
     "metadata": {},
     "output_type": "execute_result"
    }
   ],
   "source": [
    "function initPop(g, size)\n",
    "    pop = [init(g) for i=1:size]\n",
    "    return pop\n",
    "end"
   ]
  },
  {
   "cell_type": "markdown",
   "metadata": {},
   "source": [
    "## Fitness Function\n",
    "Defined simply as the number conflicts subtracted from the number of edges. This way the minimum fitness is 0, and the maximum fitness is the number of edges."
   ]
  },
  {
   "cell_type": "code",
   "execution_count": 56,
   "metadata": {},
   "outputs": [
    {
     "data": {
      "text/plain": [
       "fitness (generic function with 1 method)"
      ]
     },
     "execution_count": 56,
     "metadata": {},
     "output_type": "execute_result"
    }
   ],
   "source": [
    "function fitness(g)\n",
    "    return ne(g) - getConflicts(g)\n",
    "end"
   ]
  },
  {
   "cell_type": "markdown",
   "metadata": {},
   "source": [
    "## Random Mutation"
   ]
  },
  {
   "cell_type": "code",
   "execution_count": 57,
   "metadata": {},
   "outputs": [
    {
     "data": {
      "text/plain": [
       "mutate (generic function with 1 method)"
      ]
     },
     "execution_count": 57,
     "metadata": {},
     "output_type": "execute_result"
    }
   ],
   "source": [
    "function mutate(g)\n",
    "    v = rand(1:nv(g))\n",
    "    nc = get_prop(g, :nColors)\n",
    "    c = rand(0:nc-1)\n",
    "    #println(\"Changing node $v to color $c\")\n",
    "end"
   ]
  },
  {
   "cell_type": "markdown",
   "metadata": {},
   "source": [
    "## Mating\n",
    "Each child solution product of 2 parent solutions. Parent solutions are chosen out of pool of selected solutions. Parents are chosen at random in proportion to their fitness. Uniformly distributed crossover point is chosen. Child inherits all colors from one parent up to crossover node, and from other parent after that point.  \n",
    "\n",
    "*TODO*: try normal distribution for crossover point to avoid children almost exclusively from one parent. Also could try making crossover random but proportional to parent fitness."
   ]
  },
  {
   "cell_type": "code",
   "execution_count": 58,
   "metadata": {},
   "outputs": [
    {
     "data": {
      "text/plain": [
       "mate (generic function with 1 method)"
      ]
     },
     "execution_count": 58,
     "metadata": {},
     "output_type": "execute_result"
    }
   ],
   "source": [
    "function mate(g1, g2)\n",
    "    cross = rand(1:nv(g1))\n",
    "    child = copy(g1)\n",
    "    for v=1:nv(g1)\n",
    "        g1c = get_prop(g1, v, :color)\n",
    "        g2c = get_prop(g2, v, :color)\n",
    "        if v <= cross\n",
    "            set_prop!(child, v, :color, g1c)\n",
    "        else\n",
    "            set_prop!(child, v, :color, g2c)\n",
    "        end\n",
    "    end\n",
    "    return child\n",
    "end"
   ]
  },
  {
   "cell_type": "markdown",
   "metadata": {},
   "source": [
    "## Selection\n",
    "Select graphs randomly, but in proportion to their fitness. `pct` param specifies the approximate percentage of the population to select."
   ]
  },
  {
   "cell_type": "code",
   "execution_count": 59,
   "metadata": {},
   "outputs": [
    {
     "data": {
      "text/plain": [
       "select (generic function with 1 method)"
      ]
     },
     "execution_count": 59,
     "metadata": {},
     "output_type": "execute_result"
    }
   ],
   "source": [
    "function select(pop, pct)\n",
    "    fits = [fitness(g) for g in pop]\n",
    "    max_fit = maximum(fits)\n",
    "    min_fit = minimum(fits)\n",
    "    fitr = max_fit-min_fit\n",
    "    sel = [g for g in pop if rand(0:max_fit) < (fitness(g))*1. *pct/100]\n",
    "    #println(\"Num selected: $(length(sel))\")\n",
    "    return sel\n",
    "end"
   ]
  },
  {
   "cell_type": "markdown",
   "metadata": {},
   "source": [
    "## Get Next Generation"
   ]
  },
  {
   "cell_type": "code",
   "execution_count": 60,
   "metadata": {},
   "outputs": [],
   "source": [
    "using StatsBase"
   ]
  },
  {
   "cell_type": "code",
   "execution_count": 72,
   "metadata": {},
   "outputs": [
    {
     "data": {
      "text/plain": [
       "generate (generic function with 1 method)"
      ]
     },
     "execution_count": 72,
     "metadata": {},
     "output_type": "execute_result"
    }
   ],
   "source": [
    "function generate(pop,survive_rate,mutate_rate)\n",
    "    # TODO: make this a do->while once I know if this is possible in Julia\n",
    "    parents = select(pop, survive_rate)\n",
    "    # make sure more than two parents present or mating fails...\n",
    "    while length(parents) < 2\n",
    "        parents = select(pop, survive_rate)\n",
    "    end\n",
    "    children = copy(pop)\n",
    "    fits = [fitness(g) for g in parents]\n",
    "    # new pop should be same size as old pop\n",
    "    # TODO: experiment with this assumption\n",
    "    for i=1:length(pop)\n",
    "        ps = sample(parents, Weights(fits), 2, replace=false)\n",
    "        children[i] = mate(ps[1], ps[2])\n",
    "        if rand(0:100) > mutate_rate\n",
    "            mutate(children[i])\n",
    "        end\n",
    "    end\n",
    "    return children\n",
    "end"
   ]
  },
  {
   "cell_type": "markdown",
   "metadata": {},
   "source": [
    "## Get Many Generations"
   ]
  },
  {
   "cell_type": "code",
   "execution_count": 62,
   "metadata": {},
   "outputs": [],
   "source": [
    "using ProgressMeter"
   ]
  },
  {
   "cell_type": "code",
   "execution_count": 63,
   "metadata": {},
   "outputs": [
    {
     "data": {
      "text/plain": [
       "evolve (generic function with 1 method)"
      ]
     },
     "execution_count": 63,
     "metadata": {},
     "output_type": "execute_result"
    }
   ],
   "source": [
    "function evolve(pop, generations, survive_rate, mutate_rate)\n",
    "    pc = copy(pop)\n",
    "    @showprogress 0.5 \"Instance progress: \" for i=1:generations\n",
    "        pc = generate(pc, survive_rate, mutate_rate)\n",
    "        maxfit = maximum([fitness(g) for g in pc])\n",
    "        if maxfit == ne(pop[1]) # perfect solution found\n",
    "            println(\"Perfect solution found at generation $i\")\n",
    "            return pc\n",
    "        end\n",
    "    end\n",
    "    return pc\n",
    "end"
   ]
  },
  {
   "cell_type": "code",
   "execution_count": 64,
   "metadata": {},
   "outputs": [
    {
     "data": {
      "text/plain": [
       "maxFit (generic function with 1 method)"
      ]
     },
     "execution_count": 64,
     "metadata": {},
     "output_type": "execute_result"
    }
   ],
   "source": [
    "meanFit(pop) = mean([fitness(g) for g in pop])\n",
    "maxFit(pop) = maximum([fitness(g) for g in pop])"
   ]
  },
  {
   "cell_type": "markdown",
   "metadata": {},
   "source": [
    "# Run on All Input Files"
   ]
  },
  {
   "cell_type": "code",
   "execution_count": 65,
   "metadata": {},
   "outputs": [
    {
     "data": {
      "text/plain": [
       "11-element Array{String,1}:\n",
       " \"instances/color12-3.input\" \n",
       " \"instances/color12-4.input\" \n",
       " \"instances/color24-4.input\" \n",
       " \"instances/color24-5.input\" \n",
       " \"instances/color48-5.input\" \n",
       " \"instances/color48-6.input\" \n",
       " \"instances/color96-6.input\" \n",
       " \"instances/color96-7.input\" \n",
       " \"instances/color192-6.input\"\n",
       " \"instances/color192-7.input\"\n",
       " \"instances/color192-8.input\""
      ]
     },
     "execution_count": 65,
     "metadata": {},
     "output_type": "execute_result"
    }
   ],
   "source": [
    "fs = glob(\"color*.input\", \"instances\")\n",
    "getNum(str) = parse(Int, str[16:end-8])\n",
    "sort!(fs, lt=(a,b)->getNum(a) < getNum(b))"
   ]
  },
  {
   "cell_type": "markdown",
   "metadata": {},
   "source": [
    "### Parameters\n",
    "Course parameter search performed on these, the values found seem to work ok. Small changes make a big difference, however, and optimizing these could yield much faster and better solutions.\n",
    "\n",
    "Initial population: 500  \n",
    "Generations: 200  \n",
    "Approximate amount of population selected: 80%  \n",
    "Chance of mutation: 40%  "
   ]
  },
  {
   "cell_type": "code",
   "execution_count": 139,
   "metadata": {},
   "outputs": [
    {
     "data": {
      "text/plain": [
       "run_all (generic function with 1 method)"
      ]
     },
     "execution_count": 139,
     "metadata": {},
     "output_type": "execute_result"
    }
   ],
   "source": [
    "function run_all(fs)\n",
    "    for f in fs\n",
    "        fn = split(f, '/')[end]\n",
    "        g = loadGraph(f)\n",
    "        pop = initPop(g, 100)\n",
    "        bestpop = evolve(pop, 400, 80, 40)\n",
    "        inst = argmax([fitness(g) for g in bestpop])\n",
    "        confs = getConflicts(bestpop[inst])\n",
    "        writeSolution(bestpop[inst], \"gaoutputs/\")\n",
    "        writeImage(bestpop[inst], \"gaoutputs/imgs/\")\n",
    "        println(\"Instance $fn: $(confs) conflicts\")\n",
    "        print(\"\")\n",
    "    end \n",
    "end"
   ]
  },
  {
   "cell_type": "code",
   "execution_count": 140,
   "metadata": {},
   "outputs": [
    {
     "name": "stderr",
     "output_type": "stream",
     "text": [
      "\u001b[32mInstance progress: 100%|████████████████████████████████| Time: 0:00:04\u001b[39m\n"
     ]
    },
    {
     "name": "stdout",
     "output_type": "stream",
     "text": [
      "Instance color12-3.input: 1 conflicts\n",
      "Perfect solution found at generation 3\n",
      "Instance color12-4.input: 0 conflicts\n"
     ]
    },
    {
     "name": "stderr",
     "output_type": "stream",
     "text": [
      "\u001b[32mInstance progress: 100%|████████████████████████████████| Time: 0:00:11\u001b[39m\n"
     ]
    },
    {
     "name": "stdout",
     "output_type": "stream",
     "text": [
      "Instance color24-4.input: 4 conflicts\n"
     ]
    },
    {
     "name": "stderr",
     "output_type": "stream",
     "text": [
      "\u001b[32mInstance progress: 100%|████████████████████████████████| Time: 0:00:11\u001b[39m\n"
     ]
    },
    {
     "name": "stdout",
     "output_type": "stream",
     "text": [
      "Instance color24-5.input: 3 conflicts\n"
     ]
    },
    {
     "name": "stderr",
     "output_type": "stream",
     "text": [
      "\u001b[32mInstance progress: 100%|████████████████████████████████| Time: 0:00:33\u001b[39m\n"
     ]
    },
    {
     "name": "stdout",
     "output_type": "stream",
     "text": [
      "Instance color48-5.input: 25 conflicts\n"
     ]
    },
    {
     "name": "stderr",
     "output_type": "stream",
     "text": [
      "\u001b[32mInstance progress: 100%|████████████████████████████████| Time: 0:00:33\u001b[39m\n"
     ]
    },
    {
     "name": "stdout",
     "output_type": "stream",
     "text": [
      "Instance color48-6.input: 26 conflicts\n"
     ]
    },
    {
     "name": "stderr",
     "output_type": "stream",
     "text": [
      "\u001b[32mInstance progress: 100%|████████████████████████████████| Time: 0:01:28\u001b[39m\n"
     ]
    },
    {
     "name": "stdout",
     "output_type": "stream",
     "text": [
      "Instance color96-6.input: 114 conflicts\n"
     ]
    },
    {
     "name": "stderr",
     "output_type": "stream",
     "text": [
      "\u001b[32mInstance progress: 100%|████████████████████████████████| Time: 0:01:28\u001b[39m\n"
     ]
    },
    {
     "name": "stdout",
     "output_type": "stream",
     "text": [
      "Instance color96-7.input: 97 conflicts\n"
     ]
    },
    {
     "name": "stderr",
     "output_type": "stream",
     "text": [
      "\u001b[32mInstance progress: 100%|████████████████████████████████| Time: 0:04:16\u001b[39m\n"
     ]
    },
    {
     "name": "stdout",
     "output_type": "stream",
     "text": [
      "Instance color192-6.input: 352 conflicts\n"
     ]
    },
    {
     "name": "stderr",
     "output_type": "stream",
     "text": [
      "\u001b[32mInstance progress: 100%|████████████████████████████████| Time: 0:04:18\u001b[39m\n"
     ]
    },
    {
     "name": "stdout",
     "output_type": "stream",
     "text": [
      "Instance color192-7.input: 330 conflicts\n"
     ]
    },
    {
     "name": "stderr",
     "output_type": "stream",
     "text": [
      "\u001b[32mInstance progress: 100%|████████████████████████████████| Time: 0:04:17\u001b[39m\n"
     ]
    },
    {
     "name": "stdout",
     "output_type": "stream",
     "text": [
      "Instance color192-8.input: 256 conflicts\n"
     ]
    }
   ],
   "source": [
    "run_all(fs)"
   ]
  }
 ],
 "metadata": {
  "kernelspec": {
   "display_name": "Julia 1.1.1",
   "language": "julia",
   "name": "julia-1.1"
  },
  "language_info": {
   "file_extension": ".jl",
   "mimetype": "application/julia",
   "name": "julia",
   "version": "1.1.1"
  }
 },
 "nbformat": 4,
 "nbformat_minor": 2
}
